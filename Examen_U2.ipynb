{
 "cells": [
  {
   "cell_type": "code",
   "execution_count": 1,
   "id": "asian-offense",
   "metadata": {},
   "outputs": [
    {
     "name": "stdout",
     "output_type": "stream",
     "text": [
      "    web-scraper-order                              web-scraper-start-url  \\\n",
      "0      1615677266-217  https://www.ubereats.com/search?ps=1&q=Pizza&p...   \n",
      "1      1615677294-244  https://www.ubereats.com/search?pl=JTdCJTIyYWR...   \n",
      "2      1615677266-174  https://www.ubereats.com/search?ps=1&q=Pizza&p...   \n",
      "3      1615677266-181  https://www.ubereats.com/search?ps=1&q=Pizza&p...   \n",
      "4       1615677194-64  https://www.ubereats.com/search?ps=1&q=Pizza&p...   \n",
      "..                ...                                                ...   \n",
      "447    1615250284-229  https://www.rappi.com.mx/restaurantes/category...   \n",
      "448    1615250284-232  https://www.rappi.com.mx/restaurantes/category...   \n",
      "449    1615250284-224  https://www.rappi.com.mx/restaurantes/category...   \n",
      "450    1615250284-220  https://www.rappi.com.mx/restaurantes/category...   \n",
      "451    1615250284-233  https://www.rappi.com.mx/restaurantes/category...   \n",
      "\n",
      "                      Nombre  Rating  \n",
      "0               Ketomorfosis     4.1  \n",
      "1    Aldo´s Pizza El Marqués     4.6  \n",
      "2                    Nambila     NaN  \n",
      "3                Sinatra 351     NaN  \n",
      "4                     Casual     4.8  \n",
      "..                       ...     ...  \n",
      "447     Ipanema Pizza Buffet     NaN  \n",
      "448                Cheese Up     4.3  \n",
      "449           Domino's Pizza     2.5  \n",
      "450                Los Dogos     4.5  \n",
      "451                  Ipanema     NaN  \n",
      "\n",
      "[452 rows x 4 columns]\n"
     ]
    }
   ],
   "source": [
    "import pandas as pd\n",
    "df = pd.read_csv(r'PizzasExamen.csv')\n",
    "print (df)"
   ]
  },
  {
   "cell_type": "code",
   "execution_count": 2,
   "id": "continent-anatomy",
   "metadata": {},
   "outputs": [],
   "source": [
    "mejorP = df['Rating'].max()"
   ]
  },
  {
   "cell_type": "code",
   "execution_count": 3,
   "id": "handmade-quilt",
   "metadata": {},
   "outputs": [
    {
     "name": "stdout",
     "output_type": "stream",
     "text": [
      "5.0\n"
     ]
    }
   ],
   "source": [
    "print(mejorP)"
   ]
  },
  {
   "cell_type": "code",
   "execution_count": 4,
   "id": "incident-guide",
   "metadata": {},
   "outputs": [],
   "source": [
    "mejorPizzeria = df.loc[df['Rating'] == 5.0]"
   ]
  },
  {
   "cell_type": "code",
   "execution_count": 5,
   "id": "aggressive-heather",
   "metadata": {
    "scrolled": true
   },
   "outputs": [
    {
     "name": "stdout",
     "output_type": "stream",
     "text": [
      "    web-scraper-order                              web-scraper-start-url  \\\n",
      "303    1615678743-331  https://www.rappi.com.mx/restaurantes/category...   \n",
      "376    1615679272-370  https://www.rappi.com.mx/restaurantes/category...   \n",
      "402    1615679524-385  https://www.rappi.com.mx/restaurantes/category...   \n",
      "\n",
      "                         Nombre  Rating  \n",
      "303                Movies Pizza     5.0  \n",
      "376                Movies Pizza     5.0  \n",
      "402  Ge Vito's Pizza Juriquilla     5.0  \n"
     ]
    }
   ],
   "source": [
    "print (mejorPizzeria)"
   ]
  },
  {
   "cell_type": "code",
   "execution_count": 10,
   "id": "marked-priest",
   "metadata": {},
   "outputs": [],
   "source": [
    "muestra = df['Rating'].count()"
   ]
  },
  {
   "cell_type": "code",
   "execution_count": 12,
   "id": "aboriginal-cardiff",
   "metadata": {},
   "outputs": [
    {
     "name": "stdout",
     "output_type": "stream",
     "text": [
      "260\n"
     ]
    }
   ],
   "source": [
    "print(muestra)"
   ]
  },
  {
   "cell_type": "code",
   "execution_count": null,
   "id": "celtic-credits",
   "metadata": {},
   "outputs": [],
   "source": []
  }
 ],
 "metadata": {
  "kernelspec": {
   "display_name": "Python 3",
   "language": "python",
   "name": "python3"
  },
  "language_info": {
   "codemirror_mode": {
    "name": "ipython",
    "version": 3
   },
   "file_extension": ".py",
   "mimetype": "text/x-python",
   "name": "python",
   "nbconvert_exporter": "python",
   "pygments_lexer": "ipython3",
   "version": "3.6.9"
  }
 },
 "nbformat": 4,
 "nbformat_minor": 5
}
