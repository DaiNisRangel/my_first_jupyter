{
 "cells": [
  {
   "cell_type": "code",
   "execution_count": 8,
   "id": "generic-tuning",
   "metadata": {},
   "outputs": [],
   "source": [
    "import pandas as pd\n",
    "df = pd.read_csv(r'csv/departamentos-jurica-entrenamiento.csv', dtype=\"string\")\n",
    "df1 = pd.read_csv(r'csv/departamentos-jurica.csv', dtype=\"string\")\n",
    "df['precio'] = df['precio'].fillna('0')\n",
    "df['precio'] = df['precio'].apply(lambda x: x.replace('$', '').replace(',', '').replace('MN','').replace(' ','').replace('NM','')).astype(float)\n",
    "df['mets'] = df['mets'].fillna('0')\n",
    "df['mets'] = df['mets'].apply(lambda x: x.replace(' ','').replace('mÂ²', '')).astype(float)\n",
    "df1['precio'] = df1['precio'].fillna('0')\n",
    "df1['precio'] = df1['precio'].apply(lambda x: x.replace('$', '').replace(',', '').replace('MN','').replace(' ','').replace('NM','')).astype(float)\n",
    "df1['mets'] = df1['mets'].fillna('0')\n",
    "df1['mets'] = df1['mets'].apply(lambda x: x.replace(' ','').replace('mÂ²', '')).astype(float)\n",
    "from sklearn import linear_model"
   ]
  },
  {
   "cell_type": "code",
   "execution_count": 9,
   "id": "given-creation",
   "metadata": {
    "scrolled": false
   },
   "outputs": [
    {
     "name": "stdout",
     "output_type": "stream",
     "text": [
      "   web-scraper-order                              web-scraper-start-url  \\\n",
      "0   1620505681-10695  https://www.lamudi.com.mx/queretaro-arteaga/qu...   \n",
      "1   1620505681-10681  https://www.lamudi.com.mx/queretaro-arteaga/qu...   \n",
      "2   1620505681-10706  https://www.lamudi.com.mx/queretaro-arteaga/qu...   \n",
      "3   1620505681-10705  https://www.lamudi.com.mx/queretaro-arteaga/qu...   \n",
      "4   1620505681-10704  https://www.lamudi.com.mx/queretaro-arteaga/qu...   \n",
      "5   1620505681-10703  https://www.lamudi.com.mx/queretaro-arteaga/qu...   \n",
      "6   1620505681-10692  https://www.lamudi.com.mx/queretaro-arteaga/qu...   \n",
      "7   1620505681-10701  https://www.lamudi.com.mx/queretaro-arteaga/qu...   \n",
      "8   1620505681-10696  https://www.lamudi.com.mx/queretaro-arteaga/qu...   \n",
      "9   1620505681-10691  https://www.lamudi.com.mx/queretaro-arteaga/qu...   \n",
      "10  1620505681-10697  https://www.lamudi.com.mx/queretaro-arteaga/qu...   \n",
      "11  1620505681-10694  https://www.lamudi.com.mx/queretaro-arteaga/qu...   \n",
      "12  1620505681-10680  https://www.lamudi.com.mx/queretaro-arteaga/qu...   \n",
      "13  1620505681-10688  https://www.lamudi.com.mx/queretaro-arteaga/qu...   \n",
      "14  1620505681-10690  https://www.lamudi.com.mx/queretaro-arteaga/qu...   \n",
      "15  1620505681-10708  https://www.lamudi.com.mx/queretaro-arteaga/qu...   \n",
      "16  1620505681-10689  https://www.lamudi.com.mx/queretaro-arteaga/qu...   \n",
      "17  1620505681-10687  https://www.lamudi.com.mx/queretaro-arteaga/qu...   \n",
      "18  1620505681-10686  https://www.lamudi.com.mx/queretaro-arteaga/qu...   \n",
      "19  1620505681-10685  https://www.lamudi.com.mx/queretaro-arteaga/qu...   \n",
      "20  1620505681-10683  https://www.lamudi.com.mx/queretaro-arteaga/qu...   \n",
      "21  1620505681-10682  https://www.lamudi.com.mx/queretaro-arteaga/qu...   \n",
      "22  1620505681-10693  https://www.lamudi.com.mx/queretaro-arteaga/qu...   \n",
      "23  1620505681-10707  https://www.lamudi.com.mx/queretaro-arteaga/qu...   \n",
      "24  1620513642-12897  https://www.inmuebles24.com/departamentos-en-r...   \n",
      "25  1620513630-12875  https://www.inmuebles24.com/departamentos-en-r...   \n",
      "26  1620513642-12905  https://www.inmuebles24.com/departamentos-en-r...   \n",
      "27  1620514028-13616  https://www.inmuebles24.com/departamentos-en-r...   \n",
      "28  1620513630-12871  https://www.inmuebles24.com/departamentos-en-r...   \n",
      "\n",
      "                                               titulo   precio   habts  \\\n",
      "0            RENTA DEPARTAMENTO ARCO DE PIEDRA JURICA  24000.0       3   \n",
      "1   Se rentan departamentos (tipo loft) y recamara...   4500.0       1   \n",
      "2                   RENTA DEPARTAMENTO PALMAS CONDESA  11500.0       2   \n",
      "3   DEPARTAMENTO  EN RESIDENCIAL LOS FRESNOS, QUER...   8500.0       2   \n",
      "4            Renta Departamento Amueblado Aira Jurica  28000.0       2   \n",
      "5             RENTA DE DEPARTAMENTO EN ARCO DE PIEDRA  20000.0       2   \n",
      "6                             DEPARTAMENTO EN REGENCY  37000.0       3   \n",
      "7             RENTA DE DEPARTAMENTO EN ARCO DE PIEDRA  20000.0       2   \n",
      "8             RENTA DE DEPARTAMENTO EN ARCO DE PIEDRA  20500.0       2   \n",
      "9               Departamento en Renta en Aira, Jurica  21003.0       3   \n",
      "10  DEPARTAMENTO AMUEBLADO EN ARCO DE PIEDRA JURIC...  25000.0       2   \n",
      "11  Departamento en RENTA JURICA Queretaro Amuebla...  20000.0       2   \n",
      "12  RENTA DEPARTAMENTO NUEVO EN AIRA RESIDENCIAL J...  18000.0       2   \n",
      "13  DEPARTAMENTO EN RENTA EN JURICA, EDIFICIO AIRA...  15000.0       2   \n",
      "14  Departamento en renta amueblado en QuerÃ©taro....  16000.0       2   \n",
      "15  Departamento en Renta Club la Loma el salitre ...  17900.0       1   \n",
      "16  Renta departamento de lujo muy amplio y Amuebl...  37000.0       3   \n",
      "17  Departamento en Renta JURICA Queretaro 3 habit...  18000.0       3   \n",
      "18  Departamento en Renta JURICA Queretaro 2 habit...  14000.0       2   \n",
      "19  Renta de Hermoso departamento amueblado  en Ju...  11500.0       1   \n",
      "20  DEPARTAMENTO EN RENTA  AMUEBLADO 3 RECAMARAS Z...  23000.0       3   \n",
      "21                          DEPARTAMENTO HABITACIONAL  17000.0       2   \n",
      "22         Hermoso departamento en Jurica, QuerÃ©taro  19900.0       3   \n",
      "23                RENTA DEPARTAMENTOS PALMARES JURICA  11400.0       2   \n",
      "24                            Departamento en Regency  37500.0  3 rec.   \n",
      "25  Renta Departamento en Jurica, en Dos Niveles $...  19900.0  3 rec.   \n",
      "26          Departamento Amueblado en Renta en Jurica  10500.0  1 rec.   \n",
      "27  Departamento en Renta Juriquilla / Boulevard J...  13000.0  2 rec.   \n",
      "28  Loft Amueblado y Equipado en Renta en Jurica, ...  11500.0  1 rec.   \n",
      "\n",
      "                                                  ban   mets  \n",
      "0   2\n",
      "                                    \n",
      "       ...  175.0  \n",
      "1   1\n",
      "                                    \n",
      "       ...   60.0  \n",
      "2   2\n",
      "                                    \n",
      "       ...  134.0  \n",
      "3   2\n",
      "                                    \n",
      "       ...   90.0  \n",
      "4   2\n",
      "                                    \n",
      "       ...  146.0  \n",
      "5   2\n",
      "                                    \n",
      "       ...  115.0  \n",
      "6   5\n",
      "                                    \n",
      "       ...  268.0  \n",
      "7   2\n",
      "                                    \n",
      "       ...  115.0  \n",
      "8   2\n",
      "                                    \n",
      "       ...  115.0  \n",
      "9   2\n",
      "                                    \n",
      "       ...  157.0  \n",
      "10  2\n",
      "                                    \n",
      "       ...   92.0  \n",
      "11  2\n",
      "                                    \n",
      "       ...   92.0  \n",
      "12  2\n",
      "                                    \n",
      "       ...  148.0  \n",
      "13  2\n",
      "                                    \n",
      "       ...  109.0  \n",
      "14  2\n",
      "                                    \n",
      "       ...  150.0  \n",
      "15  2\n",
      "                                    \n",
      "       ...   88.0  \n",
      "16  3\n",
      "                                    \n",
      "       ...  283.0  \n",
      "17  2\n",
      "                                    \n",
      "       ...   92.0  \n",
      "18  2\n",
      "                                    \n",
      "       ...   92.0  \n",
      "19  1\n",
      "                                    \n",
      "       ...   65.0  \n",
      "20  2\n",
      "                                    \n",
      "       ...  140.0  \n",
      "21  2\n",
      "                                    \n",
      "       ...  132.0  \n",
      "22  3\n",
      "                                    \n",
      "       ...  180.0  \n",
      "23  2\n",
      "                                    \n",
      "       ...  125.0  \n",
      "24                             5\r\n",
      "\t\t\t\t\t\r\n",
      "\t\t\t\t\t\tbaÃ±os  268.0  \n",
      "25                             3\r\n",
      "\t\t\t\t\t\r\n",
      "\t\t\t\t\t\tbaÃ±os  180.0  \n",
      "26                              1\r\n",
      "\t\t\t\t\t\r\n",
      "\t\t\t\t\t\tbaÃ±o  100.0  \n",
      "27                             2\r\n",
      "\t\t\t\t\t\r\n",
      "\t\t\t\t\t\tbaÃ±os  130.0  \n",
      "28                              1\r\n",
      "\t\t\t\t\t\r\n",
      "\t\t\t\t\t\tbaÃ±o   65.0  \n"
     ]
    }
   ],
   "source": [
    "print (df)"
   ]
  },
  {
   "cell_type": "code",
   "execution_count": 10,
   "id": "alternate-water",
   "metadata": {},
   "outputs": [],
   "source": [
    "metros = [df['mets']]"
   ]
  },
  {
   "cell_type": "code",
   "execution_count": 11,
   "id": "coral-springfield",
   "metadata": {},
   "outputs": [],
   "source": [
    "precios = [df['precio']]"
   ]
  },
  {
   "cell_type": "code",
   "execution_count": 12,
   "id": "arctic-casino",
   "metadata": {},
   "outputs": [
    {
     "name": "stdout",
     "output_type": "stream",
     "text": [
      "[0     175.0\n",
      "1      60.0\n",
      "2     134.0\n",
      "3      90.0\n",
      "4     146.0\n",
      "5     115.0\n",
      "6     268.0\n",
      "7     115.0\n",
      "8     115.0\n",
      "9     157.0\n",
      "10     92.0\n",
      "11     92.0\n",
      "12    148.0\n",
      "13    109.0\n",
      "14    150.0\n",
      "15     88.0\n",
      "16    283.0\n",
      "17     92.0\n",
      "18     92.0\n",
      "19     65.0\n",
      "20    140.0\n",
      "21    132.0\n",
      "22    180.0\n",
      "23    125.0\n",
      "24    268.0\n",
      "25    180.0\n",
      "26    100.0\n",
      "27    130.0\n",
      "28     65.0\n",
      "Name: mets, dtype: float64]\n"
     ]
    }
   ],
   "source": [
    "print (metros)"
   ]
  },
  {
   "cell_type": "code",
   "execution_count": 13,
   "id": "endless-ethics",
   "metadata": {},
   "outputs": [
    {
     "name": "stdout",
     "output_type": "stream",
     "text": [
      "[0     24000.0\n",
      "1      4500.0\n",
      "2     11500.0\n",
      "3      8500.0\n",
      "4     28000.0\n",
      "5     20000.0\n",
      "6     37000.0\n",
      "7     20000.0\n",
      "8     20500.0\n",
      "9     21003.0\n",
      "10    25000.0\n",
      "11    20000.0\n",
      "12    18000.0\n",
      "13    15000.0\n",
      "14    16000.0\n",
      "15    17900.0\n",
      "16    37000.0\n",
      "17    18000.0\n",
      "18    14000.0\n",
      "19    11500.0\n",
      "20    23000.0\n",
      "21    17000.0\n",
      "22    19900.0\n",
      "23    11400.0\n",
      "24    37500.0\n",
      "25    19900.0\n",
      "26    10500.0\n",
      "27    13000.0\n",
      "28    11500.0\n",
      "Name: precio, dtype: float64]\n"
     ]
    }
   ],
   "source": [
    "print (precios)"
   ]
  },
  {
   "cell_type": "code",
   "execution_count": 14,
   "id": "lasting-voice",
   "metadata": {},
   "outputs": [],
   "source": [
    "model = linear_model.LinearRegression()"
   ]
  },
  {
   "cell_type": "code",
   "execution_count": 15,
   "id": "abroad-transaction",
   "metadata": {},
   "outputs": [
    {
     "data": {
      "text/plain": [
       "LinearRegression()"
      ]
     },
     "execution_count": 15,
     "metadata": {},
     "output_type": "execute_result"
    }
   ],
   "source": [
    "model.fit(metros,precios)"
   ]
  },
  {
   "cell_type": "code",
   "execution_count": 19,
   "id": "accredited-valley",
   "metadata": {},
   "outputs": [
    {
     "data": {
      "text/plain": [
       "array([[24000.,  4500., 11500.,  8500., 28000., 20000., 37000., 20000.,\n",
       "        20500., 21003., 25000., 20000., 18000., 15000., 16000., 17900.,\n",
       "        37000., 18000., 14000., 11500., 23000., 17000., 19900., 11400.,\n",
       "        37500., 19900., 10500., 13000., 11500.]])"
      ]
     },
     "execution_count": 19,
     "metadata": {},
     "output_type": "execute_result"
    }
   ],
   "source": [
    "model.predict([df['mets']])"
   ]
  },
  {
   "cell_type": "code",
   "execution_count": 21,
   "id": "second-password",
   "metadata": {},
   "outputs": [
    {
     "name": "stdout",
     "output_type": "stream",
     "text": [
      "[0      175.0\n",
      "1       60.0\n",
      "2      134.0\n",
      "3       90.0\n",
      "4      146.0\n",
      "5      115.0\n",
      "6      268.0\n",
      "7      115.0\n",
      "8      115.0\n",
      "9      157.0\n",
      "10      92.0\n",
      "11      92.0\n",
      "12     148.0\n",
      "13     109.0\n",
      "14     150.0\n",
      "15      88.0\n",
      "16     283.0\n",
      "17      92.0\n",
      "18      92.0\n",
      "19      65.0\n",
      "20     140.0\n",
      "21     132.0\n",
      "22     180.0\n",
      "23     125.0\n",
      "24     268.0\n",
      "25     180.0\n",
      "26     100.0\n",
      "27     130.0\n",
      "28      65.0\n",
      "29     180.0\n",
      "30      45.0\n",
      "31    3300.0\n",
      "32      60.0\n",
      "33     180.0\n",
      "34     283.0\n",
      "35      55.0\n",
      "36      92.0\n",
      "37     268.0\n",
      "38      92.0\n",
      "39     150.0\n",
      "40    3300.0\n",
      "41     157.0\n",
      "42     130.0\n",
      "43      22.0\n",
      "44      35.0\n",
      "45     110.0\n",
      "46     109.0\n",
      "47     120.0\n",
      "48     125.0\n",
      "49     175.0\n",
      "50      92.0\n",
      "51     283.0\n",
      "52      65.0\n",
      "53     140.0\n",
      "54      92.0\n",
      "55     139.0\n",
      "56     120.0\n",
      "Name: mets, dtype: float64]\n"
     ]
    }
   ],
   "source": [
    "metros1 = [df1['mets']]\n",
    "print (metros1)"
   ]
  },
  {
   "cell_type": "code",
   "execution_count": 23,
   "id": "lasting-lodging",
   "metadata": {},
   "outputs": [
    {
     "name": "stdout",
     "output_type": "stream",
     "text": [
      "[0     24000.0\n",
      "1      4500.0\n",
      "2     11500.0\n",
      "3      8500.0\n",
      "4     28000.0\n",
      "5     20000.0\n",
      "6     37000.0\n",
      "7     20000.0\n",
      "8     20500.0\n",
      "9     21003.0\n",
      "10    25000.0\n",
      "11    20000.0\n",
      "12    18000.0\n",
      "13    15000.0\n",
      "14    16000.0\n",
      "15    17900.0\n",
      "16    37000.0\n",
      "17    18000.0\n",
      "18    14000.0\n",
      "19    11500.0\n",
      "20    23000.0\n",
      "21    17000.0\n",
      "22    19900.0\n",
      "23    11400.0\n",
      "24    37500.0\n",
      "25    19900.0\n",
      "26    10500.0\n",
      "27    13000.0\n",
      "28    11500.0\n",
      "29    19900.0\n",
      "30     6000.0\n",
      "31    10000.0\n",
      "32     9000.0\n",
      "33    19900.0\n",
      "34    37000.0\n",
      "35     8800.0\n",
      "36    20000.0\n",
      "37    37000.0\n",
      "38    14000.0\n",
      "39    19000.0\n",
      "40    10000.0\n",
      "41    21600.0\n",
      "42    18000.0\n",
      "43    10000.0\n",
      "44     7500.0\n",
      "45    14000.0\n",
      "46    15000.0\n",
      "47    10000.0\n",
      "48    18000.0\n",
      "49    22000.0\n",
      "50    18000.0\n",
      "51    35000.0\n",
      "52     9000.0\n",
      "53    18000.0\n",
      "54    22900.0\n",
      "55    23500.0\n",
      "56    15000.0\n",
      "Name: precio, dtype: float64]\n"
     ]
    }
   ],
   "source": [
    "precios1 = [df1['precio']]\n",
    "print (precios1)"
   ]
  },
  {
   "cell_type": "code",
   "execution_count": 25,
   "id": "competitive-christianity",
   "metadata": {},
   "outputs": [],
   "source": [
    "model1 = linear_model.LinearRegression()"
   ]
  },
  {
   "cell_type": "code",
   "execution_count": 26,
   "id": "double-drunk",
   "metadata": {},
   "outputs": [
    {
     "data": {
      "text/plain": [
       "LinearRegression()"
      ]
     },
     "execution_count": 26,
     "metadata": {},
     "output_type": "execute_result"
    }
   ],
   "source": [
    "model1.fit(metros1,precios1)"
   ]
  },
  {
   "cell_type": "code",
   "execution_count": 28,
   "id": "massive-auction",
   "metadata": {},
   "outputs": [
    {
     "data": {
      "text/plain": [
       "array([[24000.,  4500., 11500.,  8500., 28000., 20000., 37000., 20000.,\n",
       "        20500., 21003., 25000., 20000., 18000., 15000., 16000., 17900.,\n",
       "        37000., 18000., 14000., 11500., 23000., 17000., 19900., 11400.,\n",
       "        37500., 19900., 10500., 13000., 11500., 19900.,  6000., 10000.,\n",
       "         9000., 19900., 37000.,  8800., 20000., 37000., 14000., 19000.,\n",
       "        10000., 21600., 18000., 10000.,  7500., 14000., 15000., 10000.,\n",
       "        18000., 22000., 18000., 35000.,  9000., 18000., 22900., 23500.,\n",
       "        15000.]])"
      ]
     },
     "execution_count": 28,
     "metadata": {},
     "output_type": "execute_result"
    }
   ],
   "source": [
    "model1.predict([df1['mets']])"
   ]
  },
  {
   "cell_type": "code",
   "execution_count": null,
   "id": "emerging-future",
   "metadata": {},
   "outputs": [],
   "source": []
  }
 ],
 "metadata": {
  "kernelspec": {
   "display_name": "Python 3",
   "language": "python",
   "name": "python3"
  },
  "language_info": {
   "codemirror_mode": {
    "name": "ipython",
    "version": 3
   },
   "file_extension": ".py",
   "mimetype": "text/x-python",
   "name": "python",
   "nbconvert_exporter": "python",
   "pygments_lexer": "ipython3",
   "version": "3.6.9"
  }
 },
 "nbformat": 4,
 "nbformat_minor": 5
}
